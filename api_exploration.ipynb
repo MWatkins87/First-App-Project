{
 "cells": [
  {
   "cell_type": "code",
   "execution_count": 1,
   "id": "8d173d0e",
   "metadata": {},
   "outputs": [],
   "source": [
    "# Import dependencies\n",
    "import requests\n",
    "import json\n",
    "import pandas as pd\n",
    "from dotenv import load_dotenv\n",
    "import os\n",
    "import time\n",
    "\n",
    "# Load environment variables and New York Times API key\n",
    "load_dotenv()\n",
    "api_key = os.getenv(\"NYT_API_KEY\")"
   ]
  },
  {
   "cell_type": "code",
   "execution_count": 12,
   "id": "b0c2dbd0",
   "metadata": {},
   "outputs": [
    {
     "name": "stdout",
     "output_type": "stream",
     "text": [
      "In response to questions about Mr. Combs’s residences, Homeland Security Investigations said the searches were part of “an ongoing investigation.” \n",
      "To read more click here https://www.nytimes.com/2024/03/25/arts/music/diddy-sean-combs-home-raided.html\n",
      "Mental Health Pt. 2 \n",
      "To read more click here https://www.nytimes.com/paidpost/bc-episode-6-transcript/breakthrough/mental-health-pt-2.html\n",
      "“Carrie” was published in 1974. Margaret Atwood explains its enduring appeal. \n",
      "To read more click here https://www.nytimes.com/2024/03/25/books/review/stephen-king-carrie-50-anniversary.html\n",
      "A bill that would add people who don’t hunt to the Vermont Fish and Wildlife Board has stirred an outcry in a state known for both progressive politics and rural traditions. \n",
      "To read more click here https://www.nytimes.com/2024/03/25/us/vermont-lawmakers-hunting-rules.html\n",
      "A suit claims that an emotional support dog named Sam attacked several tenants at an Upper West Side building and that the animal’s owners failed to take preventative action. \n",
      "To read more click here https://www.nytimes.com/2024/03/25/nyregion/emotional-support-dog-attack-lawsuit.html\n",
      "It’s a word search with a few twists. \n",
      "To read more click here https://www.nytimes.com/2024/03/24/briefing/strands-nyt-games.html\n",
      "How exactly did dogs take over our world? This writer journeys into the bespoke pet care industry to find out. \n",
      "To read more click here https://www.nytimes.com/2024/03/24/podcasts/the-daily/the-sunday-read-my-goldendoodle-spent-a-week-at-some-luxury-dog-hotels-i-tagged-along.html\n",
      "If the current Israeli military approach is inhumane, is there an alternative? \n",
      "To read more click here https://www.nytimes.com/2024/03/24/opinion/gaza-israel-war.html\n",
      "To heal after a mass shooting, the Covenant School families have turned to therapy, faith, one another — and a lot of dogs. \n",
      "To read more click here https://www.nytimes.com/2024/03/24/us/covenant-children-dogs.html\n",
      "As long as this dog isn’t biting people, it’s probably not going anywhere. But that doesn’t necessarily mean you have to live with the noise. \n",
      "To read more click here https://www.nytimes.com/2024/03/23/realestate/emotional-support-dog-neighbor-housing.html\n"
     ]
    }
   ],
   "source": [
    "# # New York Times Article API URL\n",
    "# url = \"https://api.nytimes.com/svc/search/v2/articlesearch.json?\"\n",
    "\n",
    "# # Search for articles that mention granola\n",
    "# query = input(\"What would you like to search for? \")\n",
    "# # Build query URL\n",
    "# query_url = url + query\n",
    "# # Request articles\n",
    "# response = requests.get(query_url)\n",
    "\n",
    "# # The \"response\" property in articles contains the actual articles\n",
    "# # list comprehension.\n",
    "# articles_list = articles[\"response\"]\n",
    "# New York Times Article API URL\n",
    "url = \"https://api.nytimes.com/svc/search/v2/articlesearch.json?\"\n",
    "\n",
    "# Filter for movie reviews\n",
    "# section_name should be \"Movies\"\n",
    "# type_of_material should be \"Review\"\n",
    "break_loop = True\n",
    "while break_loop:\n",
    "     \n",
    "    filter_query = input(\"What would you like to filter for? \")\n",
    "\n",
    "    # Use a sort filter, sort by newest\n",
    "    sort = \"newest\"\n",
    "\n",
    "    # Select the following fields to return:\n",
    "    # headline, web_url, snippet, source, keywords, pub_date, byline, word_count\n",
    "    field_list = \"headline,snippet,web_url\"\n",
    "\n",
    "    # Search for movie reviews published between a begin and end date\n",
    "    # Select reviews published in July 2023\n",
    "    # start_date = input(\"What date in 'YYYYMMDD' format would you like to start the search?\")\n",
    "\n",
    "    begin_date = input(\"What date in 'YYYYMMDD' format would you like to start the search?\")\n",
    "    end_date = input(\"What date in 'YYYYMMDD' format would you like to end the search?\")\n",
    "\n",
    "    # Build URL\n",
    "    query_url = f\"{url}api-key={api_key}&begin_date={begin_date}&end_date={end_date}&fq={filter_query}&sort={sort}&fl={field_list}\"\n",
    "    try:\n",
    "        articles = requests.get(query_url).json()\n",
    "        articles_list = articles[\"response\"][\"docs\"]\n",
    "        if len(articles['response']['docs']) == 0:\n",
    "            print(f\"There were no articles on {filter_query}\")\n",
    "        else:\n",
    "\n",
    "            for articles in articles_list:\n",
    "                try:\n",
    "                    web_url = articles['web_url']\n",
    "                    print(f\"{articles['snippet']} \\nTo read more click here {web_url}\")\n",
    "                    break_loop = False\n",
    "                except Exception as e:\n",
    "                    print(e)\n",
    "                #print(f\"There were no articles on {filter_query}\")\n",
    "    except KeyError:\n",
    "            print(f\"The date {begin_date} or {end_date} was not a valid date, please use YYYYMMDD format\")\n"
   ]
  }
 ],
 "metadata": {
  "kernelspec": {
   "display_name": "Python 3 (ipykernel)",
   "language": "python",
   "name": "python3"
  },
  "language_info": {
   "codemirror_mode": {
    "name": "ipython",
    "version": 3
   },
   "file_extension": ".py",
   "mimetype": "text/x-python",
   "name": "python",
   "nbconvert_exporter": "python",
   "pygments_lexer": "ipython3",
   "version": "3.10.13"
  }
 },
 "nbformat": 4,
 "nbformat_minor": 5
}
